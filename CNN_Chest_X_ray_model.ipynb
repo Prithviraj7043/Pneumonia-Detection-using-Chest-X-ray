{
  "cells": [
    {
      "cell_type": "markdown",
      "metadata": {
        "id": "view-in-github",
        "colab_type": "text"
      },
      "source": [
        "<a href=\"https://colab.research.google.com/github/Prithviraj7043/Pneumonia-Detection-using-Chest-X-ray/blob/main/CNN_Chest_X_ray_model.ipynb\" target=\"_parent\"><img src=\"https://colab.research.google.com/assets/colab-badge.svg\" alt=\"Open In Colab\"/></a>"
      ]
    },
    {
      "cell_type": "markdown",
      "metadata": {
        "id": "3DR-eO17geWu"
      },
      "source": [
        "# Convolutional Neural Network"
      ]
    },
    {
      "cell_type": "markdown",
      "metadata": {
        "id": "EMefrVPCg-60"
      },
      "source": [
        "### Importing the libraries"
      ]
    },
    {
      "cell_type": "code",
      "execution_count": null,
      "metadata": {
        "id": "sCV30xyVhFbE"
      },
      "outputs": [],
      "source": [
        "import tensorflow as tf\n",
        "from tensorflow.keras.preprocessing.image import ImageDataGenerator\n",
        "from tensorflow.keras.layers import BatchNormalization\n",
        "import matplotlib.pyplot as plt\n",
        "import os\n",
        "import pandas as pd\n",
        "from sklearn.model_selection import train_test_split\n",
        "import random\n",
        "import numpy as np\n",
        "\n",
        "seed = 42\n",
        "os.environ['PYTHONHASHSEED'] = str(seed)\n",
        "random.seed(seed)\n",
        "np.random.seed(seed)\n",
        "tf.random.set_seed(seed)\n",
        "\n",
        "os.environ[\"TF_DETERMINISTIC_OPS\"] = \"1\"\n",
        "tf.config.experimental.enable_op_determinism()"
      ]
    },
    {
      "cell_type": "code",
      "execution_count": null,
      "metadata": {
        "colab": {
          "base_uri": "https://localhost:8080/",
          "height": 36
        },
        "id": "FIleuCAjoFD8",
        "outputId": "87eb791d-5917-4c0a-b35a-4c31dbc8590a"
      },
      "outputs": [
        {
          "output_type": "execute_result",
          "data": {
            "text/plain": [
              "'2.19.0'"
            ],
            "application/vnd.google.colaboratory.intrinsic+json": {
              "type": "string"
            }
          },
          "metadata": {},
          "execution_count": 30
        }
      ],
      "source": [
        "tf.__version__"
      ]
    },
    {
      "cell_type": "code",
      "execution_count": null,
      "metadata": {
        "colab": {
          "base_uri": "https://localhost:8080/"
        },
        "id": "-tA9k_wlWTXu",
        "outputId": "2fc7218d-2893-47f8-d0fb-8e6715d84413"
      },
      "outputs": [
        {
          "output_type": "stream",
          "name": "stdout",
          "text": [
            "Path to dataset files: /kaggle/input/chest-xray-pneumonia\n"
          ]
        }
      ],
      "source": [
        "import kagglehub\n",
        "\n",
        "path = kagglehub.dataset_download(\"paultimothymooney/chest-xray-pneumonia\")\n",
        "\n",
        "print(\"Path to dataset files:\", path)\n",
        "train_path = path + \"/chest_xray/train\"\n",
        "test_path = path + \"/chest_xray/test\"\n",
        "train_image_paths = []\n",
        "train_image_labels = []\n",
        "for class_name in os.listdir(train_path):\n",
        "    class_path = os.path.join(train_path, class_name)\n",
        "    if os.path.isdir(class_path):\n",
        "        for image_name in os.listdir(class_path):\n",
        "            train_image_paths.append(os.path.join(class_path, image_name))\n",
        "            train_image_labels.append(class_name)\n",
        "\n",
        "train_df = pd.DataFrame({'filepath': train_image_paths, 'label': train_image_labels})"
      ]
    },
    {
      "cell_type": "markdown",
      "metadata": {
        "id": "oxQxCBWyoGPE"
      },
      "source": [
        "## Data Preprocessing"
      ]
    },
    {
      "cell_type": "code",
      "execution_count": null,
      "metadata": {
        "colab": {
          "base_uri": "https://localhost:8080/",
          "height": 395
        },
        "id": "7bxm7YS1hTEa",
        "outputId": "ac4004f7-e00c-4262-ce69-8139f38f6bee"
      },
      "outputs": [
        {
          "output_type": "display_data",
          "data": {
            "text/plain": [
              "                                               filepath      label\n",
              "293   /kaggle/input/chest-xray-pneumonia/chest_xray/...  PNEUMONIA\n",
              "24    /kaggle/input/chest-xray-pneumonia/chest_xray/...  PNEUMONIA\n",
              "4627  /kaggle/input/chest-xray-pneumonia/chest_xray/...     NORMAL\n",
              "4107  /kaggle/input/chest-xray-pneumonia/chest_xray/...     NORMAL\n",
              "1730  /kaggle/input/chest-xray-pneumonia/chest_xray/...  PNEUMONIA"
            ],
            "text/html": [
              "\n",
              "  <div id=\"df-850bd486-1d96-4f54-97c2-e958a178962f\" class=\"colab-df-container\">\n",
              "    <div>\n",
              "<style scoped>\n",
              "    .dataframe tbody tr th:only-of-type {\n",
              "        vertical-align: middle;\n",
              "    }\n",
              "\n",
              "    .dataframe tbody tr th {\n",
              "        vertical-align: top;\n",
              "    }\n",
              "\n",
              "    .dataframe thead th {\n",
              "        text-align: right;\n",
              "    }\n",
              "</style>\n",
              "<table border=\"1\" class=\"dataframe\">\n",
              "  <thead>\n",
              "    <tr style=\"text-align: right;\">\n",
              "      <th></th>\n",
              "      <th>filepath</th>\n",
              "      <th>label</th>\n",
              "    </tr>\n",
              "  </thead>\n",
              "  <tbody>\n",
              "    <tr>\n",
              "      <th>293</th>\n",
              "      <td>/kaggle/input/chest-xray-pneumonia/chest_xray/...</td>\n",
              "      <td>PNEUMONIA</td>\n",
              "    </tr>\n",
              "    <tr>\n",
              "      <th>24</th>\n",
              "      <td>/kaggle/input/chest-xray-pneumonia/chest_xray/...</td>\n",
              "      <td>PNEUMONIA</td>\n",
              "    </tr>\n",
              "    <tr>\n",
              "      <th>4627</th>\n",
              "      <td>/kaggle/input/chest-xray-pneumonia/chest_xray/...</td>\n",
              "      <td>NORMAL</td>\n",
              "    </tr>\n",
              "    <tr>\n",
              "      <th>4107</th>\n",
              "      <td>/kaggle/input/chest-xray-pneumonia/chest_xray/...</td>\n",
              "      <td>NORMAL</td>\n",
              "    </tr>\n",
              "    <tr>\n",
              "      <th>1730</th>\n",
              "      <td>/kaggle/input/chest-xray-pneumonia/chest_xray/...</td>\n",
              "      <td>PNEUMONIA</td>\n",
              "    </tr>\n",
              "  </tbody>\n",
              "</table>\n",
              "</div>\n",
              "    <div class=\"colab-df-buttons\">\n",
              "\n",
              "  <div class=\"colab-df-container\">\n",
              "    <button class=\"colab-df-convert\" onclick=\"convertToInteractive('df-850bd486-1d96-4f54-97c2-e958a178962f')\"\n",
              "            title=\"Convert this dataframe to an interactive table.\"\n",
              "            style=\"display:none;\">\n",
              "\n",
              "  <svg xmlns=\"http://www.w3.org/2000/svg\" height=\"24px\" viewBox=\"0 -960 960 960\">\n",
              "    <path d=\"M120-120v-720h720v720H120Zm60-500h600v-160H180v160Zm220 220h160v-160H400v160Zm0 220h160v-160H400v160ZM180-400h160v-160H180v160Zm440 0h160v-160H620v160ZM180-180h160v-160H180v160Zm440 0h160v-160H620v160Z\"/>\n",
              "  </svg>\n",
              "    </button>\n",
              "\n",
              "  <style>\n",
              "    .colab-df-container {\n",
              "      display:flex;\n",
              "      gap: 12px;\n",
              "    }\n",
              "\n",
              "    .colab-df-convert {\n",
              "      background-color: #E8F0FE;\n",
              "      border: none;\n",
              "      border-radius: 50%;\n",
              "      cursor: pointer;\n",
              "      display: none;\n",
              "      fill: #1967D2;\n",
              "      height: 32px;\n",
              "      padding: 0 0 0 0;\n",
              "      width: 32px;\n",
              "    }\n",
              "\n",
              "    .colab-df-convert:hover {\n",
              "      background-color: #E2EBFA;\n",
              "      box-shadow: 0px 1px 2px rgba(60, 64, 67, 0.3), 0px 1px 3px 1px rgba(60, 64, 67, 0.15);\n",
              "      fill: #174EA6;\n",
              "    }\n",
              "\n",
              "    .colab-df-buttons div {\n",
              "      margin-bottom: 4px;\n",
              "    }\n",
              "\n",
              "    [theme=dark] .colab-df-convert {\n",
              "      background-color: #3B4455;\n",
              "      fill: #D2E3FC;\n",
              "    }\n",
              "\n",
              "    [theme=dark] .colab-df-convert:hover {\n",
              "      background-color: #434B5C;\n",
              "      box-shadow: 0px 1px 3px 1px rgba(0, 0, 0, 0.15);\n",
              "      filter: drop-shadow(0px 1px 2px rgba(0, 0, 0, 0.3));\n",
              "      fill: #FFFFFF;\n",
              "    }\n",
              "  </style>\n",
              "\n",
              "    <script>\n",
              "      const buttonEl =\n",
              "        document.querySelector('#df-850bd486-1d96-4f54-97c2-e958a178962f button.colab-df-convert');\n",
              "      buttonEl.style.display =\n",
              "        google.colab.kernel.accessAllowed ? 'block' : 'none';\n",
              "\n",
              "      async function convertToInteractive(key) {\n",
              "        const element = document.querySelector('#df-850bd486-1d96-4f54-97c2-e958a178962f');\n",
              "        const dataTable =\n",
              "          await google.colab.kernel.invokeFunction('convertToInteractive',\n",
              "                                                    [key], {});\n",
              "        if (!dataTable) return;\n",
              "\n",
              "        const docLinkHtml = 'Like what you see? Visit the ' +\n",
              "          '<a target=\"_blank\" href=https://colab.research.google.com/notebooks/data_table.ipynb>data table notebook</a>'\n",
              "          + ' to learn more about interactive tables.';\n",
              "        element.innerHTML = '';\n",
              "        dataTable['output_type'] = 'display_data';\n",
              "        await google.colab.output.renderOutput(dataTable, element);\n",
              "        const docLink = document.createElement('div');\n",
              "        docLink.innerHTML = docLinkHtml;\n",
              "        element.appendChild(docLink);\n",
              "      }\n",
              "    </script>\n",
              "  </div>\n",
              "\n",
              "\n",
              "    <div id=\"df-c6957711-428e-4f85-9fbd-a3139ec2eaf7\">\n",
              "      <button class=\"colab-df-quickchart\" onclick=\"quickchart('df-c6957711-428e-4f85-9fbd-a3139ec2eaf7')\"\n",
              "                title=\"Suggest charts\"\n",
              "                style=\"display:none;\">\n",
              "\n",
              "<svg xmlns=\"http://www.w3.org/2000/svg\" height=\"24px\"viewBox=\"0 0 24 24\"\n",
              "     width=\"24px\">\n",
              "    <g>\n",
              "        <path d=\"M19 3H5c-1.1 0-2 .9-2 2v14c0 1.1.9 2 2 2h14c1.1 0 2-.9 2-2V5c0-1.1-.9-2-2-2zM9 17H7v-7h2v7zm4 0h-2V7h2v10zm4 0h-2v-4h2v4z\"/>\n",
              "    </g>\n",
              "</svg>\n",
              "      </button>\n",
              "\n",
              "<style>\n",
              "  .colab-df-quickchart {\n",
              "      --bg-color: #E8F0FE;\n",
              "      --fill-color: #1967D2;\n",
              "      --hover-bg-color: #E2EBFA;\n",
              "      --hover-fill-color: #174EA6;\n",
              "      --disabled-fill-color: #AAA;\n",
              "      --disabled-bg-color: #DDD;\n",
              "  }\n",
              "\n",
              "  [theme=dark] .colab-df-quickchart {\n",
              "      --bg-color: #3B4455;\n",
              "      --fill-color: #D2E3FC;\n",
              "      --hover-bg-color: #434B5C;\n",
              "      --hover-fill-color: #FFFFFF;\n",
              "      --disabled-bg-color: #3B4455;\n",
              "      --disabled-fill-color: #666;\n",
              "  }\n",
              "\n",
              "  .colab-df-quickchart {\n",
              "    background-color: var(--bg-color);\n",
              "    border: none;\n",
              "    border-radius: 50%;\n",
              "    cursor: pointer;\n",
              "    display: none;\n",
              "    fill: var(--fill-color);\n",
              "    height: 32px;\n",
              "    padding: 0;\n",
              "    width: 32px;\n",
              "  }\n",
              "\n",
              "  .colab-df-quickchart:hover {\n",
              "    background-color: var(--hover-bg-color);\n",
              "    box-shadow: 0 1px 2px rgba(60, 64, 67, 0.3), 0 1px 3px 1px rgba(60, 64, 67, 0.15);\n",
              "    fill: var(--button-hover-fill-color);\n",
              "  }\n",
              "\n",
              "  .colab-df-quickchart-complete:disabled,\n",
              "  .colab-df-quickchart-complete:disabled:hover {\n",
              "    background-color: var(--disabled-bg-color);\n",
              "    fill: var(--disabled-fill-color);\n",
              "    box-shadow: none;\n",
              "  }\n",
              "\n",
              "  .colab-df-spinner {\n",
              "    border: 2px solid var(--fill-color);\n",
              "    border-color: transparent;\n",
              "    border-bottom-color: var(--fill-color);\n",
              "    animation:\n",
              "      spin 1s steps(1) infinite;\n",
              "  }\n",
              "\n",
              "  @keyframes spin {\n",
              "    0% {\n",
              "      border-color: transparent;\n",
              "      border-bottom-color: var(--fill-color);\n",
              "      border-left-color: var(--fill-color);\n",
              "    }\n",
              "    20% {\n",
              "      border-color: transparent;\n",
              "      border-left-color: var(--fill-color);\n",
              "      border-top-color: var(--fill-color);\n",
              "    }\n",
              "    30% {\n",
              "      border-color: transparent;\n",
              "      border-left-color: var(--fill-color);\n",
              "      border-top-color: var(--fill-color);\n",
              "      border-right-color: var(--fill-color);\n",
              "    }\n",
              "    40% {\n",
              "      border-color: transparent;\n",
              "      border-right-color: var(--fill-color);\n",
              "      border-top-color: var(--fill-color);\n",
              "    }\n",
              "    60% {\n",
              "      border-color: transparent;\n",
              "      border-right-color: var(--fill-color);\n",
              "    }\n",
              "    80% {\n",
              "      border-color: transparent;\n",
              "      border-right-color: var(--fill-color);\n",
              "      border-bottom-color: var(--fill-color);\n",
              "    }\n",
              "    90% {\n",
              "      border-color: transparent;\n",
              "      border-bottom-color: var(--fill-color);\n",
              "    }\n",
              "  }\n",
              "</style>\n",
              "\n",
              "      <script>\n",
              "        async function quickchart(key) {\n",
              "          const quickchartButtonEl =\n",
              "            document.querySelector('#' + key + ' button');\n",
              "          quickchartButtonEl.disabled = true;  // To prevent multiple clicks.\n",
              "          quickchartButtonEl.classList.add('colab-df-spinner');\n",
              "          try {\n",
              "            const charts = await google.colab.kernel.invokeFunction(\n",
              "                'suggestCharts', [key], {});\n",
              "          } catch (error) {\n",
              "            console.error('Error during call to suggestCharts:', error);\n",
              "          }\n",
              "          quickchartButtonEl.classList.remove('colab-df-spinner');\n",
              "          quickchartButtonEl.classList.add('colab-df-quickchart-complete');\n",
              "        }\n",
              "        (() => {\n",
              "          let quickchartButtonEl =\n",
              "            document.querySelector('#df-c6957711-428e-4f85-9fbd-a3139ec2eaf7 button');\n",
              "          quickchartButtonEl.style.display =\n",
              "            google.colab.kernel.accessAllowed ? 'block' : 'none';\n",
              "        })();\n",
              "      </script>\n",
              "    </div>\n",
              "\n",
              "    </div>\n",
              "  </div>\n"
            ],
            "application/vnd.google.colaboratory.intrinsic+json": {
              "type": "dataframe",
              "summary": "{\n  \"name\": \"display(val_df_split\",\n  \"rows\": 5,\n  \"fields\": [\n    {\n      \"column\": \"filepath\",\n      \"properties\": {\n        \"dtype\": \"string\",\n        \"num_unique_values\": 5,\n        \"samples\": [\n          \"/kaggle/input/chest-xray-pneumonia/chest_xray/train/PNEUMONIA/person1197_virus_2039.jpeg\",\n          \"/kaggle/input/chest-xray-pneumonia/chest_xray/train/PNEUMONIA/person867_virus_1512.jpeg\",\n          \"/kaggle/input/chest-xray-pneumonia/chest_xray/train/NORMAL/IM-0355-0001.jpeg\"\n        ],\n        \"semantic_type\": \"\",\n        \"description\": \"\"\n      }\n    },\n    {\n      \"column\": \"label\",\n      \"properties\": {\n        \"dtype\": \"category\",\n        \"num_unique_values\": 2,\n        \"samples\": [\n          \"NORMAL\",\n          \"PNEUMONIA\"\n        ],\n        \"semantic_type\": \"\",\n        \"description\": \"\"\n      }\n    }\n  ]\n}"
            }
          },
          "metadata": {}
        },
        {
          "output_type": "display_data",
          "data": {
            "text/plain": [
              "                                               filepath      label\n",
              "3896  /kaggle/input/chest-xray-pneumonia/chest_xray/...     NORMAL\n",
              "3939  /kaggle/input/chest-xray-pneumonia/chest_xray/...     NORMAL\n",
              "1560  /kaggle/input/chest-xray-pneumonia/chest_xray/...  PNEUMONIA\n",
              "4076  /kaggle/input/chest-xray-pneumonia/chest_xray/...     NORMAL\n",
              "4604  /kaggle/input/chest-xray-pneumonia/chest_xray/...     NORMAL"
            ],
            "text/html": [
              "\n",
              "  <div id=\"df-0eb6af63-a486-4cea-8cfe-ab20cd430c19\" class=\"colab-df-container\">\n",
              "    <div>\n",
              "<style scoped>\n",
              "    .dataframe tbody tr th:only-of-type {\n",
              "        vertical-align: middle;\n",
              "    }\n",
              "\n",
              "    .dataframe tbody tr th {\n",
              "        vertical-align: top;\n",
              "    }\n",
              "\n",
              "    .dataframe thead th {\n",
              "        text-align: right;\n",
              "    }\n",
              "</style>\n",
              "<table border=\"1\" class=\"dataframe\">\n",
              "  <thead>\n",
              "    <tr style=\"text-align: right;\">\n",
              "      <th></th>\n",
              "      <th>filepath</th>\n",
              "      <th>label</th>\n",
              "    </tr>\n",
              "  </thead>\n",
              "  <tbody>\n",
              "    <tr>\n",
              "      <th>3896</th>\n",
              "      <td>/kaggle/input/chest-xray-pneumonia/chest_xray/...</td>\n",
              "      <td>NORMAL</td>\n",
              "    </tr>\n",
              "    <tr>\n",
              "      <th>3939</th>\n",
              "      <td>/kaggle/input/chest-xray-pneumonia/chest_xray/...</td>\n",
              "      <td>NORMAL</td>\n",
              "    </tr>\n",
              "    <tr>\n",
              "      <th>1560</th>\n",
              "      <td>/kaggle/input/chest-xray-pneumonia/chest_xray/...</td>\n",
              "      <td>PNEUMONIA</td>\n",
              "    </tr>\n",
              "    <tr>\n",
              "      <th>4076</th>\n",
              "      <td>/kaggle/input/chest-xray-pneumonia/chest_xray/...</td>\n",
              "      <td>NORMAL</td>\n",
              "    </tr>\n",
              "    <tr>\n",
              "      <th>4604</th>\n",
              "      <td>/kaggle/input/chest-xray-pneumonia/chest_xray/...</td>\n",
              "      <td>NORMAL</td>\n",
              "    </tr>\n",
              "  </tbody>\n",
              "</table>\n",
              "</div>\n",
              "    <div class=\"colab-df-buttons\">\n",
              "\n",
              "  <div class=\"colab-df-container\">\n",
              "    <button class=\"colab-df-convert\" onclick=\"convertToInteractive('df-0eb6af63-a486-4cea-8cfe-ab20cd430c19')\"\n",
              "            title=\"Convert this dataframe to an interactive table.\"\n",
              "            style=\"display:none;\">\n",
              "\n",
              "  <svg xmlns=\"http://www.w3.org/2000/svg\" height=\"24px\" viewBox=\"0 -960 960 960\">\n",
              "    <path d=\"M120-120v-720h720v720H120Zm60-500h600v-160H180v160Zm220 220h160v-160H400v160Zm0 220h160v-160H400v160ZM180-400h160v-160H180v160Zm440 0h160v-160H620v160ZM180-180h160v-160H180v160Zm440 0h160v-160H620v160Z\"/>\n",
              "  </svg>\n",
              "    </button>\n",
              "\n",
              "  <style>\n",
              "    .colab-df-container {\n",
              "      display:flex;\n",
              "      gap: 12px;\n",
              "    }\n",
              "\n",
              "    .colab-df-convert {\n",
              "      background-color: #E8F0FE;\n",
              "      border: none;\n",
              "      border-radius: 50%;\n",
              "      cursor: pointer;\n",
              "      display: none;\n",
              "      fill: #1967D2;\n",
              "      height: 32px;\n",
              "      padding: 0 0 0 0;\n",
              "      width: 32px;\n",
              "    }\n",
              "\n",
              "    .colab-df-convert:hover {\n",
              "      background-color: #E2EBFA;\n",
              "      box-shadow: 0px 1px 2px rgba(60, 64, 67, 0.3), 0px 1px 3px 1px rgba(60, 64, 67, 0.15);\n",
              "      fill: #174EA6;\n",
              "    }\n",
              "\n",
              "    .colab-df-buttons div {\n",
              "      margin-bottom: 4px;\n",
              "    }\n",
              "\n",
              "    [theme=dark] .colab-df-convert {\n",
              "      background-color: #3B4455;\n",
              "      fill: #D2E3FC;\n",
              "    }\n",
              "\n",
              "    [theme=dark] .colab-df-convert:hover {\n",
              "      background-color: #434B5C;\n",
              "      box-shadow: 0px 1px 3px 1px rgba(0, 0, 0, 0.15);\n",
              "      filter: drop-shadow(0px 1px 2px rgba(0, 0, 0, 0.3));\n",
              "      fill: #FFFFFF;\n",
              "    }\n",
              "  </style>\n",
              "\n",
              "    <script>\n",
              "      const buttonEl =\n",
              "        document.querySelector('#df-0eb6af63-a486-4cea-8cfe-ab20cd430c19 button.colab-df-convert');\n",
              "      buttonEl.style.display =\n",
              "        google.colab.kernel.accessAllowed ? 'block' : 'none';\n",
              "\n",
              "      async function convertToInteractive(key) {\n",
              "        const element = document.querySelector('#df-0eb6af63-a486-4cea-8cfe-ab20cd430c19');\n",
              "        const dataTable =\n",
              "          await google.colab.kernel.invokeFunction('convertToInteractive',\n",
              "                                                    [key], {});\n",
              "        if (!dataTable) return;\n",
              "\n",
              "        const docLinkHtml = 'Like what you see? Visit the ' +\n",
              "          '<a target=\"_blank\" href=https://colab.research.google.com/notebooks/data_table.ipynb>data table notebook</a>'\n",
              "          + ' to learn more about interactive tables.';\n",
              "        element.innerHTML = '';\n",
              "        dataTable['output_type'] = 'display_data';\n",
              "        await google.colab.output.renderOutput(dataTable, element);\n",
              "        const docLink = document.createElement('div');\n",
              "        docLink.innerHTML = docLinkHtml;\n",
              "        element.appendChild(docLink);\n",
              "      }\n",
              "    </script>\n",
              "  </div>\n",
              "\n",
              "\n",
              "    <div id=\"df-e6506a0b-918f-45ca-a754-f3c4baee22d6\">\n",
              "      <button class=\"colab-df-quickchart\" onclick=\"quickchart('df-e6506a0b-918f-45ca-a754-f3c4baee22d6')\"\n",
              "                title=\"Suggest charts\"\n",
              "                style=\"display:none;\">\n",
              "\n",
              "<svg xmlns=\"http://www.w3.org/2000/svg\" height=\"24px\"viewBox=\"0 0 24 24\"\n",
              "     width=\"24px\">\n",
              "    <g>\n",
              "        <path d=\"M19 3H5c-1.1 0-2 .9-2 2v14c0 1.1.9 2 2 2h14c1.1 0 2-.9 2-2V5c0-1.1-.9-2-2-2zM9 17H7v-7h2v7zm4 0h-2V7h2v10zm4 0h-2v-4h2v4z\"/>\n",
              "    </g>\n",
              "</svg>\n",
              "      </button>\n",
              "\n",
              "<style>\n",
              "  .colab-df-quickchart {\n",
              "      --bg-color: #E8F0FE;\n",
              "      --fill-color: #1967D2;\n",
              "      --hover-bg-color: #E2EBFA;\n",
              "      --hover-fill-color: #174EA6;\n",
              "      --disabled-fill-color: #AAA;\n",
              "      --disabled-bg-color: #DDD;\n",
              "  }\n",
              "\n",
              "  [theme=dark] .colab-df-quickchart {\n",
              "      --bg-color: #3B4455;\n",
              "      --fill-color: #D2E3FC;\n",
              "      --hover-bg-color: #434B5C;\n",
              "      --hover-fill-color: #FFFFFF;\n",
              "      --disabled-bg-color: #3B4455;\n",
              "      --disabled-fill-color: #666;\n",
              "  }\n",
              "\n",
              "  .colab-df-quickchart {\n",
              "    background-color: var(--bg-color);\n",
              "    border: none;\n",
              "    border-radius: 50%;\n",
              "    cursor: pointer;\n",
              "    display: none;\n",
              "    fill: var(--fill-color);\n",
              "    height: 32px;\n",
              "    padding: 0;\n",
              "    width: 32px;\n",
              "  }\n",
              "\n",
              "  .colab-df-quickchart:hover {\n",
              "    background-color: var(--hover-bg-color);\n",
              "    box-shadow: 0 1px 2px rgba(60, 64, 67, 0.3), 0 1px 3px 1px rgba(60, 64, 67, 0.15);\n",
              "    fill: var(--button-hover-fill-color);\n",
              "  }\n",
              "\n",
              "  .colab-df-quickchart-complete:disabled,\n",
              "  .colab-df-quickchart-complete:disabled:hover {\n",
              "    background-color: var(--disabled-bg-color);\n",
              "    fill: var(--disabled-fill-color);\n",
              "    box-shadow: none;\n",
              "  }\n",
              "\n",
              "  .colab-df-spinner {\n",
              "    border: 2px solid var(--fill-color);\n",
              "    border-color: transparent;\n",
              "    border-bottom-color: var(--fill-color);\n",
              "    animation:\n",
              "      spin 1s steps(1) infinite;\n",
              "  }\n",
              "\n",
              "  @keyframes spin {\n",
              "    0% {\n",
              "      border-color: transparent;\n",
              "      border-bottom-color: var(--fill-color);\n",
              "      border-left-color: var(--fill-color);\n",
              "    }\n",
              "    20% {\n",
              "      border-color: transparent;\n",
              "      border-left-color: var(--fill-color);\n",
              "      border-top-color: var(--fill-color);\n",
              "    }\n",
              "    30% {\n",
              "      border-color: transparent;\n",
              "      border-left-color: var(--fill-color);\n",
              "      border-top-color: var(--fill-color);\n",
              "      border-right-color: var(--fill-color);\n",
              "    }\n",
              "    40% {\n",
              "      border-color: transparent;\n",
              "      border-right-color: var(--fill-color);\n",
              "      border-top-color: var(--fill-color);\n",
              "    }\n",
              "    60% {\n",
              "      border-color: transparent;\n",
              "      border-right-color: var(--fill-color);\n",
              "    }\n",
              "    80% {\n",
              "      border-color: transparent;\n",
              "      border-right-color: var(--fill-color);\n",
              "      border-bottom-color: var(--fill-color);\n",
              "    }\n",
              "    90% {\n",
              "      border-color: transparent;\n",
              "      border-bottom-color: var(--fill-color);\n",
              "    }\n",
              "  }\n",
              "</style>\n",
              "\n",
              "      <script>\n",
              "        async function quickchart(key) {\n",
              "          const quickchartButtonEl =\n",
              "            document.querySelector('#' + key + ' button');\n",
              "          quickchartButtonEl.disabled = true;  // To prevent multiple clicks.\n",
              "          quickchartButtonEl.classList.add('colab-df-spinner');\n",
              "          try {\n",
              "            const charts = await google.colab.kernel.invokeFunction(\n",
              "                'suggestCharts', [key], {});\n",
              "          } catch (error) {\n",
              "            console.error('Error during call to suggestCharts:', error);\n",
              "          }\n",
              "          quickchartButtonEl.classList.remove('colab-df-spinner');\n",
              "          quickchartButtonEl.classList.add('colab-df-quickchart-complete');\n",
              "        }\n",
              "        (() => {\n",
              "          let quickchartButtonEl =\n",
              "            document.querySelector('#df-e6506a0b-918f-45ca-a754-f3c4baee22d6 button');\n",
              "          quickchartButtonEl.style.display =\n",
              "            google.colab.kernel.accessAllowed ? 'block' : 'none';\n",
              "        })();\n",
              "      </script>\n",
              "    </div>\n",
              "\n",
              "    </div>\n",
              "  </div>\n"
            ],
            "application/vnd.google.colaboratory.intrinsic+json": {
              "type": "dataframe",
              "summary": "{\n  \"name\": \"display(val_df_split\",\n  \"rows\": 5,\n  \"fields\": [\n    {\n      \"column\": \"filepath\",\n      \"properties\": {\n        \"dtype\": \"string\",\n        \"num_unique_values\": 5,\n        \"samples\": [\n          \"/kaggle/input/chest-xray-pneumonia/chest_xray/train/NORMAL/IM-0340-0001.jpeg\",\n          \"/kaggle/input/chest-xray-pneumonia/chest_xray/train/NORMAL/NORMAL2-IM-1280-0001.jpeg\",\n          \"/kaggle/input/chest-xray-pneumonia/chest_xray/train/PNEUMONIA/person123_virus_230.jpeg\"\n        ],\n        \"semantic_type\": \"\",\n        \"description\": \"\"\n      }\n    },\n    {\n      \"column\": \"label\",\n      \"properties\": {\n        \"dtype\": \"category\",\n        \"num_unique_values\": 2,\n        \"samples\": [\n          \"PNEUMONIA\",\n          \"NORMAL\"\n        ],\n        \"semantic_type\": \"\",\n        \"description\": \"\"\n      }\n    }\n  ]\n}"
            }
          },
          "metadata": {}
        }
      ],
      "source": [
        "train_df_split, val_df_split = train_test_split(train_df, test_size=0.08, random_state=42, stratify=train_df['label'])\n",
        "\n",
        "display(train_df_split.head())\n",
        "display(val_df_split.head())"
      ]
    },
    {
      "cell_type": "markdown",
      "metadata": {
        "id": "MvE-heJNo3GG"
      },
      "source": [
        "### Preprocessing the Training set"
      ]
    },
    {
      "cell_type": "code",
      "execution_count": null,
      "metadata": {
        "colab": {
          "base_uri": "https://localhost:8080/"
        },
        "id": "0koUcJMJpEBD",
        "outputId": "033aa819-f4bb-44d0-f905-2d66c7e18d12"
      },
      "outputs": [
        {
          "output_type": "stream",
          "name": "stdout",
          "text": [
            "Found 4798 validated image filenames belonging to 2 classes.\n"
          ]
        }
      ],
      "source": [
        "train_datagen = ImageDataGenerator(rescale = 1./255,\n",
        "                                   height_shift_range = 0.05,\n",
        "                                   width_shift_range = 0.05,\n",
        "                                   zoom_range = 0.2,\n",
        "                                   brightness_range = (0.8, 1.2),\n",
        "                                   rotation_range = 7,\n",
        "                                   fill_mode = 'reflect',\n",
        "                                   horizontal_flip = True)\n",
        "training_set = train_datagen.flow_from_dataframe(dataframe=train_df_split,\n",
        "                                                 x_col='filepath',\n",
        "                                                 y_col='label',\n",
        "                                                 target_size = (64, 64),\n",
        "                                                 batch_size = 32,\n",
        "                                                 class_mode = 'binary')"
      ]
    },
    {
      "cell_type": "markdown",
      "metadata": {
        "id": "mrCMmGw9pHys"
      },
      "source": [
        "### Preprocessing the Test set"
      ]
    },
    {
      "cell_type": "code",
      "execution_count": null,
      "metadata": {
        "colab": {
          "base_uri": "https://localhost:8080/"
        },
        "id": "SH4WzfOhpKc3",
        "outputId": "bb8fc4da-ff34-4f82-d6be-2ef27d15c125"
      },
      "outputs": [
        {
          "output_type": "stream",
          "name": "stdout",
          "text": [
            "Found 624 images belonging to 2 classes.\n",
            "Found 418 validated image filenames belonging to 2 classes.\n"
          ]
        }
      ],
      "source": [
        "test_datagen = ImageDataGenerator(rescale = 1./255)\n",
        "test_set = test_datagen.flow_from_directory(test_path,\n",
        "                                            target_size=(64, 64),\n",
        "                                            batch_size=32,\n",
        "                                            shuffle=False,\n",
        "                                            class_mode='binary',\n",
        "                                            seed=42)\n",
        "\n",
        "val_datagen = ImageDataGenerator(rescale = 1./255)\n",
        "val_set = val_datagen.flow_from_dataframe(dataframe=val_df_split,\n",
        "                                          x_col='filepath',\n",
        "                                          y_col='label',\n",
        "                                          target_size=(64, 64),\n",
        "                                          batch_size=32,\n",
        "                                          class_mode='binary',\n",
        "                                          seed=42)"
      ]
    },
    {
      "cell_type": "markdown",
      "metadata": {
        "id": "af8O4l90gk7B"
      },
      "source": [
        "## Building the CNN"
      ]
    },
    {
      "cell_type": "markdown",
      "metadata": {
        "id": "u5YJj_XMl5LF"
      },
      "source": [
        "# First Convolution Layer"
      ]
    },
    {
      "cell_type": "code",
      "execution_count": null,
      "metadata": {
        "id": "SAUt4UMPlhLS"
      },
      "outputs": [],
      "source": [
        "cnn = tf.keras.models.Sequential()"
      ]
    },
    {
      "cell_type": "code",
      "execution_count": null,
      "metadata": {
        "colab": {
          "base_uri": "https://localhost:8080/"
        },
        "id": "XPzPrMckl-hV",
        "outputId": "bfbe17dc-6143-4594-a09f-f7333e7bacd8"
      },
      "outputs": [
        {
          "output_type": "stream",
          "name": "stderr",
          "text": [
            "/usr/local/lib/python3.12/dist-packages/keras/src/layers/convolutional/base_conv.py:113: UserWarning: Do not pass an `input_shape`/`input_dim` argument to a layer. When using Sequential models, prefer using an `Input(shape)` object as the first layer in the model instead.\n",
            "  super().__init__(activity_regularizer=activity_regularizer, **kwargs)\n"
          ]
        }
      ],
      "source": [
        "cnn.add(tf.keras.layers.Conv2D(filters=32, kernel_size=3,activation='relu', input_shape=[64, 64, 3]))"
      ]
    },
    {
      "cell_type": "markdown",
      "metadata": {
        "id": "tf87FpvxmNOJ"
      },
      "source": [
        "### Pooling & Dropout"
      ]
    },
    {
      "cell_type": "code",
      "execution_count": null,
      "metadata": {
        "id": "ncpqPl69mOac"
      },
      "outputs": [],
      "source": [
        "cnn.add(tf.keras.layers.MaxPool2D(pool_size=2, strides=2))\n",
        "cnn.add(tf.keras.layers.Dropout(0.2))"
      ]
    },
    {
      "cell_type": "markdown",
      "metadata": {
        "id": "xaTOgD8rm4mU"
      },
      "source": [
        "# Second Convolutional Layer"
      ]
    },
    {
      "cell_type": "code",
      "execution_count": null,
      "metadata": {
        "id": "i_-FZjn_m8gk"
      },
      "outputs": [],
      "source": [
        "cnn.add(tf.keras.layers.Conv2D(filters=64, kernel_size=3, activation='relu'))\n",
        "cnn.add(tf.keras.layers.MaxPool2D(pool_size=2, strides=2))\n",
        "cnn.add(tf.keras.layers.Dropout(0.3))"
      ]
    },
    {
      "cell_type": "markdown",
      "metadata": {
        "id": "MqtcDTYMH2W4"
      },
      "source": [
        "# Third Convolution Layer\n"
      ]
    },
    {
      "cell_type": "code",
      "execution_count": null,
      "metadata": {
        "id": "Q5fj3n3zIDop"
      },
      "outputs": [],
      "source": [
        "cnn.add(tf.keras.layers.Conv2D(filters=128, kernel_size=3, activation='relu'))\n",
        "cnn.add(tf.keras.layers.MaxPool2D(pool_size=2, strides=2))\n",
        "cnn.add(tf.keras.layers.Dropout(0.4))"
      ]
    },
    {
      "cell_type": "markdown",
      "metadata": {
        "id": "tmiEuvTunKfk"
      },
      "source": [
        "# Flattening"
      ]
    },
    {
      "cell_type": "code",
      "execution_count": null,
      "metadata": {
        "id": "6AZeOGCvnNZn"
      },
      "outputs": [],
      "source": [
        "cnn.add(tf.keras.layers.Flatten())"
      ]
    },
    {
      "cell_type": "markdown",
      "metadata": {
        "id": "dAoSECOm203v"
      },
      "source": [
        "# Full Connection"
      ]
    },
    {
      "cell_type": "code",
      "execution_count": null,
      "metadata": {
        "id": "8GtmUlLd26Nq"
      },
      "outputs": [],
      "source": [
        "cnn.add(tf.keras.layers.Dense(units=128, activation='relu'))\n",
        "cnn.add(tf.keras.layers.Dropout(0.5))"
      ]
    },
    {
      "cell_type": "markdown",
      "metadata": {
        "id": "yTldFvbX28Na"
      },
      "source": [
        "# Output Layer"
      ]
    },
    {
      "cell_type": "code",
      "execution_count": null,
      "metadata": {
        "id": "1p_Zj1Mc3Ko_"
      },
      "outputs": [],
      "source": [
        "cnn.add(tf.keras.layers.Dense(units=1, activation='sigmoid'))"
      ]
    },
    {
      "cell_type": "markdown",
      "metadata": {
        "id": "D6XkI90snSDl"
      },
      "source": [
        "## Training the CNN"
      ]
    },
    {
      "cell_type": "markdown",
      "metadata": {
        "id": "vfrFQACEnc6i"
      },
      "source": [
        "### Compiling the CNN"
      ]
    },
    {
      "cell_type": "code",
      "execution_count": null,
      "metadata": {
        "id": "NALksrNQpUlJ"
      },
      "outputs": [],
      "source": [
        "cnn.compile(optimizer = 'adam', loss = 'binary_crossentropy', metrics = ['accuracy'])"
      ]
    },
    {
      "cell_type": "markdown",
      "metadata": {
        "id": "ehS-v3MIpX2h"
      },
      "source": [
        "### Training the CNN on the Training set and evaluating it on the Test set"
      ]
    },
    {
      "cell_type": "code",
      "execution_count": null,
      "metadata": {
        "colab": {
          "base_uri": "https://localhost:8080/"
        },
        "id": "XUj1W4PJptta",
        "outputId": "96e3e8f9-c7bf-4cc5-968b-aa085913e278"
      },
      "outputs": [
        {
          "output_type": "stream",
          "name": "stderr",
          "text": [
            "/usr/local/lib/python3.12/dist-packages/keras/src/trainers/data_adapters/py_dataset_adapter.py:121: UserWarning: Your `PyDataset` class should call `super().__init__(**kwargs)` in its constructor. `**kwargs` can include `workers`, `use_multiprocessing`, `max_queue_size`. Do not pass these arguments to `fit()`, as they will be ignored.\n",
            "  self._warn_if_super_not_called()\n"
          ]
        },
        {
          "output_type": "stream",
          "name": "stdout",
          "text": [
            "Epoch 1/30\n",
            "\u001b[1m150/150\u001b[0m \u001b[32m━━━━━━━━━━━━━━━━━━━━\u001b[0m\u001b[37m\u001b[0m \u001b[1m56s\u001b[0m 363ms/step - accuracy: 0.7317 - loss: 0.5847 - val_accuracy: 0.8900 - val_loss: 0.3904 - learning_rate: 0.0010\n",
            "Epoch 2/30\n",
            "\u001b[1m150/150\u001b[0m \u001b[32m━━━━━━━━━━━━━━━━━━━━\u001b[0m\u001b[37m\u001b[0m \u001b[1m52s\u001b[0m 348ms/step - accuracy: 0.8087 - loss: 0.3734 - val_accuracy: 0.8517 - val_loss: 0.3175 - learning_rate: 0.0010\n",
            "Epoch 3/30\n",
            "\u001b[1m150/150\u001b[0m \u001b[32m━━━━━━━━━━━━━━━━━━━━\u001b[0m\u001b[37m\u001b[0m \u001b[1m52s\u001b[0m 349ms/step - accuracy: 0.8666 - loss: 0.3030 - val_accuracy: 0.9115 - val_loss: 0.2129 - learning_rate: 0.0010\n",
            "Epoch 4/30\n",
            "\u001b[1m150/150\u001b[0m \u001b[32m━━━━━━━━━━━━━━━━━━━━\u001b[0m\u001b[37m\u001b[0m \u001b[1m81s\u001b[0m 343ms/step - accuracy: 0.8866 - loss: 0.2609 - val_accuracy: 0.9187 - val_loss: 0.2275 - learning_rate: 0.0010\n",
            "Epoch 5/30\n",
            "\u001b[1m150/150\u001b[0m \u001b[32m━━━━━━━━━━━━━━━━━━━━\u001b[0m\u001b[37m\u001b[0m \u001b[1m0s\u001b[0m 319ms/step - accuracy: 0.8956 - loss: 0.2631\n",
            "Epoch 5: ReduceLROnPlateau reducing learning rate to 0.0005000000237487257.\n",
            "\u001b[1m150/150\u001b[0m \u001b[32m━━━━━━━━━━━━━━━━━━━━\u001b[0m\u001b[37m\u001b[0m \u001b[1m83s\u001b[0m 354ms/step - accuracy: 0.8956 - loss: 0.2630 - val_accuracy: 0.9067 - val_loss: 0.2164 - learning_rate: 0.0010\n",
            "Epoch 6/30\n",
            "\u001b[1m150/150\u001b[0m \u001b[32m━━━━━━━━━━━━━━━━━━━━\u001b[0m\u001b[37m\u001b[0m \u001b[1m81s\u001b[0m 345ms/step - accuracy: 0.9111 - loss: 0.2201 - val_accuracy: 0.9019 - val_loss: 0.2114 - learning_rate: 5.0000e-04\n",
            "Epoch 7/30\n",
            "\u001b[1m150/150\u001b[0m \u001b[32m━━━━━━━━━━━━━━━━━━━━\u001b[0m\u001b[37m\u001b[0m \u001b[1m54s\u001b[0m 359ms/step - accuracy: 0.9209 - loss: 0.2044 - val_accuracy: 0.9282 - val_loss: 0.1639 - learning_rate: 5.0000e-04\n",
            "Epoch 8/30\n",
            "\u001b[1m150/150\u001b[0m \u001b[32m━━━━━━━━━━━━━━━━━━━━\u001b[0m\u001b[37m\u001b[0m \u001b[1m52s\u001b[0m 346ms/step - accuracy: 0.9218 - loss: 0.1938 - val_accuracy: 0.9019 - val_loss: 0.2141 - learning_rate: 5.0000e-04\n",
            "Epoch 9/30\n",
            "\u001b[1m150/150\u001b[0m \u001b[32m━━━━━━━━━━━━━━━━━━━━\u001b[0m\u001b[37m\u001b[0m \u001b[1m53s\u001b[0m 355ms/step - accuracy: 0.9190 - loss: 0.2007 - val_accuracy: 0.9306 - val_loss: 0.1568 - learning_rate: 5.0000e-04\n",
            "Epoch 10/30\n",
            "\u001b[1m150/150\u001b[0m \u001b[32m━━━━━━━━━━━━━━━━━━━━\u001b[0m\u001b[37m\u001b[0m \u001b[1m53s\u001b[0m 354ms/step - accuracy: 0.9324 - loss: 0.1797 - val_accuracy: 0.9306 - val_loss: 0.1513 - learning_rate: 5.0000e-04\n",
            "Epoch 11/30\n",
            "\u001b[1m150/150\u001b[0m \u001b[32m━━━━━━━━━━━━━━━━━━━━\u001b[0m\u001b[37m\u001b[0m \u001b[1m53s\u001b[0m 355ms/step - accuracy: 0.9258 - loss: 0.1870 - val_accuracy: 0.9354 - val_loss: 0.1475 - learning_rate: 5.0000e-04\n",
            "Epoch 12/30\n",
            "\u001b[1m150/150\u001b[0m \u001b[32m━━━━━━━━━━━━━━━━━━━━\u001b[0m\u001b[37m\u001b[0m \u001b[1m54s\u001b[0m 358ms/step - accuracy: 0.9374 - loss: 0.1704 - val_accuracy: 0.9282 - val_loss: 0.1671 - learning_rate: 5.0000e-04\n",
            "Epoch 13/30\n",
            "\u001b[1m150/150\u001b[0m \u001b[32m━━━━━━━━━━━━━━━━━━━━\u001b[0m\u001b[37m\u001b[0m \u001b[1m0s\u001b[0m 321ms/step - accuracy: 0.9341 - loss: 0.1764\n",
            "Epoch 13: ReduceLROnPlateau reducing learning rate to 0.0002500000118743628.\n",
            "\u001b[1m150/150\u001b[0m \u001b[32m━━━━━━━━━━━━━━━━━━━━\u001b[0m\u001b[37m\u001b[0m \u001b[1m80s\u001b[0m 345ms/step - accuracy: 0.9341 - loss: 0.1763 - val_accuracy: 0.9306 - val_loss: 0.1543 - learning_rate: 5.0000e-04\n",
            "Epoch 14/30\n",
            "\u001b[1m150/150\u001b[0m \u001b[32m━━━━━━━━━━━━━━━━━━━━\u001b[0m\u001b[37m\u001b[0m \u001b[1m84s\u001b[0m 362ms/step - accuracy: 0.9389 - loss: 0.1648 - val_accuracy: 0.9354 - val_loss: 0.1449 - learning_rate: 2.5000e-04\n",
            "Epoch 15/30\n",
            "\u001b[1m150/150\u001b[0m \u001b[32m━━━━━━━━━━━━━━━━━━━━\u001b[0m\u001b[37m\u001b[0m \u001b[1m53s\u001b[0m 356ms/step - accuracy: 0.9384 - loss: 0.1612 - val_accuracy: 0.9282 - val_loss: 0.1550 - learning_rate: 2.5000e-04\n",
            "Epoch 16/30\n",
            "\u001b[1m150/150\u001b[0m \u001b[32m━━━━━━━━━━━━━━━━━━━━\u001b[0m\u001b[37m\u001b[0m \u001b[1m0s\u001b[0m 321ms/step - accuracy: 0.9313 - loss: 0.1847\n",
            "Epoch 16: ReduceLROnPlateau reducing learning rate to 0.0001250000059371814.\n",
            "\u001b[1m150/150\u001b[0m \u001b[32m━━━━━━━━━━━━━━━━━━━━\u001b[0m\u001b[37m\u001b[0m \u001b[1m81s\u001b[0m 350ms/step - accuracy: 0.9313 - loss: 0.1847 - val_accuracy: 0.9234 - val_loss: 0.1614 - learning_rate: 2.5000e-04\n",
            "Epoch 17/30\n",
            "\u001b[1m150/150\u001b[0m \u001b[32m━━━━━━━━━━━━━━━━━━━━\u001b[0m\u001b[37m\u001b[0m \u001b[1m53s\u001b[0m 356ms/step - accuracy: 0.9363 - loss: 0.1530 - val_accuracy: 0.9402 - val_loss: 0.1414 - learning_rate: 1.2500e-04\n",
            "Epoch 18/30\n",
            "\u001b[1m150/150\u001b[0m \u001b[32m━━━━━━━━━━━━━━━━━━━━\u001b[0m\u001b[37m\u001b[0m \u001b[1m54s\u001b[0m 360ms/step - accuracy: 0.9403 - loss: 0.1602 - val_accuracy: 0.9378 - val_loss: 0.1418 - learning_rate: 1.2500e-04\n",
            "Epoch 19/30\n",
            "\u001b[1m150/150\u001b[0m \u001b[32m━━━━━━━━━━━━━━━━━━━━\u001b[0m\u001b[37m\u001b[0m \u001b[1m0s\u001b[0m 322ms/step - accuracy: 0.9429 - loss: 0.1515\n",
            "Epoch 19: ReduceLROnPlateau reducing learning rate to 6.25000029685907e-05.\n",
            "\u001b[1m150/150\u001b[0m \u001b[32m━━━━━━━━━━━━━━━━━━━━\u001b[0m\u001b[37m\u001b[0m \u001b[1m53s\u001b[0m 351ms/step - accuracy: 0.9429 - loss: 0.1515 - val_accuracy: 0.9330 - val_loss: 0.1477 - learning_rate: 1.2500e-04\n",
            "Epoch 20/30\n",
            "\u001b[1m150/150\u001b[0m \u001b[32m━━━━━━━━━━━━━━━━━━━━\u001b[0m\u001b[37m\u001b[0m \u001b[1m52s\u001b[0m 344ms/step - accuracy: 0.9351 - loss: 0.1680 - val_accuracy: 0.9402 - val_loss: 0.1347 - learning_rate: 6.2500e-05\n",
            "Epoch 21/30\n",
            "\u001b[1m150/150\u001b[0m \u001b[32m━━━━━━━━━━━━━━━━━━━━\u001b[0m\u001b[37m\u001b[0m \u001b[1m51s\u001b[0m 343ms/step - accuracy: 0.9454 - loss: 0.1463 - val_accuracy: 0.9354 - val_loss: 0.1401 - learning_rate: 6.2500e-05\n",
            "Epoch 22/30\n",
            "\u001b[1m150/150\u001b[0m \u001b[32m━━━━━━━━━━━━━━━━━━━━\u001b[0m\u001b[37m\u001b[0m \u001b[1m0s\u001b[0m 320ms/step - accuracy: 0.9412 - loss: 0.1611\n",
            "Epoch 22: ReduceLROnPlateau reducing learning rate to 3.125000148429535e-05.\n",
            "\u001b[1m150/150\u001b[0m \u001b[32m━━━━━━━━━━━━━━━━━━━━\u001b[0m\u001b[37m\u001b[0m \u001b[1m52s\u001b[0m 347ms/step - accuracy: 0.9412 - loss: 0.1610 - val_accuracy: 0.9426 - val_loss: 0.1356 - learning_rate: 6.2500e-05\n",
            "Epoch 23/30\n",
            "\u001b[1m150/150\u001b[0m \u001b[32m━━━━━━━━━━━━━━━━━━━━\u001b[0m\u001b[37m\u001b[0m \u001b[1m52s\u001b[0m 345ms/step - accuracy: 0.9393 - loss: 0.1533 - val_accuracy: 0.9426 - val_loss: 0.1329 - learning_rate: 3.1250e-05\n",
            "Epoch 24/30\n",
            "\u001b[1m150/150\u001b[0m \u001b[32m━━━━━━━━━━━━━━━━━━━━\u001b[0m\u001b[37m\u001b[0m \u001b[1m53s\u001b[0m 353ms/step - accuracy: 0.9444 - loss: 0.1516 - val_accuracy: 0.9330 - val_loss: 0.1463 - learning_rate: 3.1250e-05\n",
            "Epoch 25/30\n",
            "\u001b[1m150/150\u001b[0m \u001b[32m━━━━━━━━━━━━━━━━━━━━\u001b[0m\u001b[37m\u001b[0m \u001b[1m0s\u001b[0m 322ms/step - accuracy: 0.9427 - loss: 0.1495\n",
            "Epoch 25: ReduceLROnPlateau reducing learning rate to 1.5625000742147677e-05.\n",
            "\u001b[1m150/150\u001b[0m \u001b[32m━━━━━━━━━━━━━━━━━━━━\u001b[0m\u001b[37m\u001b[0m \u001b[1m81s\u001b[0m 345ms/step - accuracy: 0.9426 - loss: 0.1495 - val_accuracy: 0.9450 - val_loss: 0.1347 - learning_rate: 3.1250e-05\n",
            "Epoch 26/30\n",
            "\u001b[1m150/150\u001b[0m \u001b[32m━━━━━━━━━━━━━━━━━━━━\u001b[0m\u001b[37m\u001b[0m \u001b[1m81s\u001b[0m 341ms/step - accuracy: 0.9516 - loss: 0.1455 - val_accuracy: 0.9450 - val_loss: 0.1332 - learning_rate: 1.5625e-05\n",
            "Epoch 27/30\n",
            "\u001b[1m150/150\u001b[0m \u001b[32m━━━━━━━━━━━━━━━━━━━━\u001b[0m\u001b[37m\u001b[0m \u001b[1m0s\u001b[0m 318ms/step - accuracy: 0.9430 - loss: 0.1467\n",
            "Epoch 27: ReduceLROnPlateau reducing learning rate to 7.812500371073838e-06.\n",
            "\u001b[1m150/150\u001b[0m \u001b[32m━━━━━━━━━━━━━━━━━━━━\u001b[0m\u001b[37m\u001b[0m \u001b[1m53s\u001b[0m 352ms/step - accuracy: 0.9430 - loss: 0.1468 - val_accuracy: 0.9402 - val_loss: 0.1358 - learning_rate: 1.5625e-05\n",
            "Epoch 28/30\n",
            "\u001b[1m150/150\u001b[0m \u001b[32m━━━━━━━━━━━━━━━━━━━━\u001b[0m\u001b[37m\u001b[0m \u001b[1m52s\u001b[0m 349ms/step - accuracy: 0.9532 - loss: 0.1371 - val_accuracy: 0.9378 - val_loss: 0.1377 - learning_rate: 7.8125e-06\n"
          ]
        }
      ],
      "source": [
        "from tensorflow.keras.callbacks import EarlyStopping, ReduceLROnPlateau\n",
        "reduce_lr = ReduceLROnPlateau(\n",
        "    monitor='val_loss',\n",
        "    factor=0.5,\n",
        "    patience=2,\n",
        "    min_lr=1e-6,\n",
        "    verbose=1\n",
        ")\n",
        "early_stopping = EarlyStopping(\n",
        "    monitor='val_loss',\n",
        "    patience=5,\n",
        "    restore_best_weights=True\n",
        ")\n",
        "history = cnn.fit(\n",
        "    x=training_set,\n",
        "    validation_data=val_set,\n",
        "    epochs=30,\n",
        "    callbacks=[early_stopping,reduce_lr]\n",
        ")"
      ]
    },
    {
      "cell_type": "code",
      "execution_count": null,
      "metadata": {
        "id": "ZCJeK0Figo9L",
        "colab": {
          "base_uri": "https://localhost:8080/"
        },
        "outputId": "5d2e1255-e611-4947-bf65-d47f13b143b6"
      },
      "outputs": [
        {
          "output_type": "stream",
          "name": "stdout",
          "text": [
            "\u001b[1m150/150\u001b[0m \u001b[32m━━━━━━━━━━━━━━━━━━━━\u001b[0m\u001b[37m\u001b[0m \u001b[1m46s\u001b[0m 307ms/step - accuracy: 0.9487 - loss: 0.1293\n",
            "Train: accuracy = 0.950604  ;  loss = 0.126685\n",
            "\u001b[1m20/20\u001b[0m \u001b[32m━━━━━━━━━━━━━━━━━━━━\u001b[0m\u001b[37m\u001b[0m \u001b[1m4s\u001b[0m 202ms/step - accuracy: 0.8879 - loss: 0.4003\n",
            "Test: accuracy = 0.916667  ;  loss = 0.279838\n",
            "\u001b[1m14/14\u001b[0m \u001b[32m━━━━━━━━━━━━━━━━━━━━\u001b[0m\u001b[37m\u001b[0m \u001b[1m4s\u001b[0m 301ms/step - accuracy: 0.9480 - loss: 0.1182\n",
            "Validation: accuracy = 0.942584  ;  loss = 0.132852\n"
          ]
        }
      ],
      "source": [
        "loss_train, accuracy_train = cnn.evaluate(training_set)\n",
        "print(\"Train: accuracy = %f  ;  loss = %f\" % (accuracy_train, loss_train))\n",
        "loss_test, accuracy_test = cnn.evaluate(test_set)\n",
        "print(\"Test: accuracy = %f  ;  loss = %f\" % (accuracy_test, loss_test))\n",
        "loss_val, accuracy_val = cnn.evaluate(val_set)\n",
        "print(\"Validation: accuracy = %f  ;  loss = %f\" % (accuracy_val, loss_val))\n",
        "cnn.save(\"model-final.keras\")"
      ]
    },
    {
      "cell_type": "markdown",
      "source": [
        "# History Plot"
      ],
      "metadata": {
        "id": "WJBnc92-gIm4"
      }
    },
    {
      "cell_type": "code",
      "execution_count": null,
      "metadata": {
        "id": "6Ye7wmEwjuO8"
      },
      "outputs": [],
      "source": [
        "def plot_model_history(model_history):\n",
        "    fig, axs = plt.subplots(1,2,figsize=(15,5))\n",
        "    #plot for model accuracy\n",
        "    axs[0].plot(range(1,len(model_history.history['accuracy'])+1),model_history.history['accuracy'])\n",
        "    axs[0].plot(range(1,len(model_history.history['val_accuracy'])+1),model_history.history['val_accuracy'])\n",
        "    axs[0].set_title('Model Accuracy')\n",
        "    axs[0].set_ylabel('Accuracy')\n",
        "    axs[0].set_xlabel('Epoch')\n",
        "    axs[0].set_xticks(np.arange(1,len(model_history.history['accuracy'])+1))\n",
        "    axs[0].legend(['train', 'val'], loc='best')\n",
        "    #Plot for model loss\n",
        "    axs[1].plot(range(1,len(model_history.history['loss'])+1),model_history.history['loss'])\n",
        "    axs[1].plot(range(1,len(model_history.history['val_loss'])+1),model_history.history['val_loss'])\n",
        "    axs[1].set_title('Model Loss')\n",
        "    axs[1].set_ylabel('Loss')\n",
        "    axs[1].set_xlabel('Epoch')\n",
        "    axs[1].set_xticks(np.arange(1,len(model_history.history['loss'])+1))\n",
        "    axs[1].legend(['train', 'val'], loc='best')\n",
        "    plt.show()"
      ]
    },
    {
      "cell_type": "code",
      "execution_count": null,
      "metadata": {
        "id": "lIa_YUlpkCvK",
        "colab": {
          "base_uri": "https://localhost:8080/",
          "height": 487
        },
        "outputId": "4aeb74f0-4c96-4447-dc0a-0935e32ae8cd"
      },
      "outputs": [
        {
          "output_type": "display_data",
          "data": {
            "text/plain": [
              "<Figure size 1500x500 with 2 Axes>"
            ],
            "image/png": "[encoded data removed]"
          },
          "metadata": {}
        }
      ],
      "source": [
        "plot_model_history(history)"
      ]
    },
    {
      "cell_type": "markdown",
      "metadata": {
        "id": "U3PZasO0006Z"
      },
      "source": [
        "## Performance Evaluation Report"
      ]
    },
    {
      "cell_type": "code",
      "source": [
        "from tensorflow import keras\n",
        "from sklearn.metrics import accuracy_score, precision_score, recall_score\n",
        "from sklearn.metrics import classification_report, confusion_matrix\n",
        "\n",
        "model = keras.models.load_model(\"model-final.keras\")\n",
        "\n",
        "y_true = test_set.classes\n",
        "y_pred_prob = model.predict(test_set, verbose=0)\n",
        "\n",
        "print(f\"Prediction shape: {y_pred_prob.shape}\")\n",
        "\n",
        "y_pred_prob = model.predict(test_set, verbose=0)\n",
        "y_pred = (y_pred_prob > 0.5).astype(\"int32\").flatten()\n",
        "\n",
        "accuracy = accuracy_score(y_true, y_pred)\n",
        "precision = precision_score(y_true, y_pred, average=\"binary\")\n",
        "recall = recall_score(y_true, y_pred, average=\"binary\")\n",
        "\n",
        "print(f\"Accuracy: {accuracy:.4f}\")\n",
        "print(f\"Precision: {precision:.4f}\")\n",
        "print(f\"Recall: {recall:.4f}\")\n",
        "\n",
        "print(\"\\nDetailed Report:\")\n",
        "print(classification_report(y_true, y_pred, target_names=['Normal', 'Pneumonia']))\n",
        "print(\"\\nConfusion Matrix:\")\n",
        "print(confusion_matrix(y_true, y_pred))\n"
      ],
      "metadata": {
        "id": "q32BALXeeiWR",
        "colab": {
          "base_uri": "https://localhost:8080/"
        },
        "outputId": "76077cd7-6937-4986-f61e-56b2d2ab68e8"
      },
      "execution_count": null,
      "outputs": [
        {
          "output_type": "stream",
          "name": "stdout",
          "text": [
            "Prediction shape: (624, 1)\n",
            "Accuracy: 0.9167\n",
            "Precision: 0.9005\n",
            "Recall: 0.9744\n",
            "\n",
            "Detailed Report:\n",
            "              precision    recall  f1-score   support\n",
            "\n",
            "      Normal       0.95      0.82      0.88       234\n",
            "   Pneumonia       0.90      0.97      0.94       390\n",
            "\n",
            "    accuracy                           0.92       624\n",
            "   macro avg       0.93      0.90      0.91       624\n",
            "weighted avg       0.92      0.92      0.92       624\n",
            "\n",
            "\n",
            "Confusion Matrix:\n",
            "[[192  42]\n",
            " [ 10 380]]\n"
          ]
        }
      ]
    },
    {
      "cell_type": "markdown",
      "source": [
        "# Sample predictions on test images"
      ],
      "metadata": {
        "id": "odEL_6PCjH4Z"
      }
    },
    {
      "cell_type": "code",
      "source": [
        "sample_set = test_set\n",
        "pred_probs = cnn.predict(sample_set)\n",
        "pred_classes = (pred_probs > 0.5).astype(int).reshape(-1)\n",
        "\n",
        "true_classes = val_set.classes\n",
        "class_labels = list(val_set.class_indices.keys())\n",
        "\n",
        "loss_sample, accuracy_sample = cnn.evaluate(sample_set)\n",
        "print(\"Sample: accuracy = %f  ;  loss = %f\" % (accuracy_sample, loss_sample))\n",
        "\n",
        "pred_labels = [class_labels[p] for p in pred_classes]\n",
        "true_labels = [class_labels[t] for t in true_classes]\n",
        "print(\"Sample Set: \")\n",
        "for pred, true in zip(pred_labels, true_labels):\n",
        "    print(f\"Predicted: {pred}  |  Actual: {true}\")"
      ],
      "metadata": {
        "colab": {
          "base_uri": "https://localhost:8080/"
        },
        "id": "HwdteSmgUaLZ",
        "outputId": "b0e838e2-a3ff-48a1-8b50-b0d6477b31f8"
      },
      "execution_count": null,
      "outputs": [
        {
          "output_type": "stream",
          "name": "stdout",
          "text": [
            "\u001b[1m20/20\u001b[0m \u001b[32m━━━━━━━━━━━━━━━━━━━━\u001b[0m\u001b[37m\u001b[0m \u001b[1m4s\u001b[0m 201ms/step\n",
            "\u001b[1m20/20\u001b[0m \u001b[32m━━━━━━━━━━━━━━━━━━━━\u001b[0m\u001b[37m\u001b[0m \u001b[1m5s\u001b[0m 218ms/step - accuracy: 0.8879 - loss: 0.4003\n",
            "Sample: accuracy = 0.916667  ;  loss = 0.279838\n",
            "Sample Set: \n",
            "Predicted: NORMAL  |  Actual: NORMAL\n",
            "Predicted: NORMAL  |  Actual: NORMAL\n",
            "Predicted: NORMAL  |  Actual: PNEUMONIA\n",
            "Predicted: NORMAL  |  Actual: NORMAL\n",
            "Predicted: NORMAL  |  Actual: NORMAL\n",
            "Predicted: NORMAL  |  Actual: PNEUMONIA\n",
            "Predicted: NORMAL  |  Actual: PNEUMONIA\n",
            "Predicted: NORMAL  |  Actual: PNEUMONIA\n",
            "Predicted: NORMAL  |  Actual: PNEUMONIA\n",
            "Predicted: NORMAL  |  Actual: PNEUMONIA\n",
            "Predicted: NORMAL  |  Actual: NORMAL\n",
            "Predicted: NORMAL  |  Actual: NORMAL\n",
            "Predicted: NORMAL  |  Actual: NORMAL\n",
            "Predicted: NORMAL  |  Actual: NORMAL\n",
            "Predicted: NORMAL  |  Actual: PNEUMONIA\n",
            "Predicted: NORMAL  |  Actual: PNEUMONIA\n",
            "Predicted: PNEUMONIA  |  Actual: PNEUMONIA\n",
            "Predicted: NORMAL  |  Actual: PNEUMONIA\n",
            "Predicted: NORMAL  |  Actual: PNEUMONIA\n",
            "Predicted: NORMAL  |  Actual: PNEUMONIA\n",
            "Predicted: NORMAL  |  Actual: PNEUMONIA\n",
            "Predicted: NORMAL  |  Actual: PNEUMONIA\n",
            "Predicted: NORMAL  |  Actual: NORMAL\n",
            "Predicted: NORMAL  |  Actual: NORMAL\n",
            "Predicted: NORMAL  |  Actual: PNEUMONIA\n",
            "Predicted: NORMAL  |  Actual: PNEUMONIA\n",
            "Predicted: NORMAL  |  Actual: PNEUMONIA\n",
            "Predicted: NORMAL  |  Actual: NORMAL\n",
            "Predicted: PNEUMONIA  |  Actual: PNEUMONIA\n",
            "Predicted: NORMAL  |  Actual: PNEUMONIA\n",
            "Predicted: NORMAL  |  Actual: PNEUMONIA\n",
            "Predicted: NORMAL  |  Actual: PNEUMONIA\n",
            "Predicted: NORMAL  |  Actual: PNEUMONIA\n",
            "Predicted: NORMAL  |  Actual: NORMAL\n",
            "Predicted: NORMAL  |  Actual: PNEUMONIA\n",
            "Predicted: NORMAL  |  Actual: PNEUMONIA\n",
            "Predicted: NORMAL  |  Actual: PNEUMONIA\n",
            "Predicted: NORMAL  |  Actual: PNEUMONIA\n",
            "Predicted: NORMAL  |  Actual: PNEUMONIA\n",
            "Predicted: NORMAL  |  Actual: PNEUMONIA\n",
            "Predicted: NORMAL  |  Actual: PNEUMONIA\n",
            "Predicted: NORMAL  |  Actual: PNEUMONIA\n",
            "Predicted: NORMAL  |  Actual: PNEUMONIA\n",
            "Predicted: NORMAL  |  Actual: PNEUMONIA\n",
            "Predicted: NORMAL  |  Actual: NORMAL\n",
            "Predicted: NORMAL  |  Actual: PNEUMONIA\n",
            "Predicted: NORMAL  |  Actual: PNEUMONIA\n",
            "Predicted: NORMAL  |  Actual: PNEUMONIA\n",
            "Predicted: NORMAL  |  Actual: NORMAL\n",
            "Predicted: NORMAL  |  Actual: NORMAL\n",
            "Predicted: NORMAL  |  Actual: PNEUMONIA\n",
            "Predicted: NORMAL  |  Actual: NORMAL\n",
            "Predicted: NORMAL  |  Actual: PNEUMONIA\n",
            "Predicted: NORMAL  |  Actual: PNEUMONIA\n",
            "Predicted: NORMAL  |  Actual: NORMAL\n",
            "Predicted: NORMAL  |  Actual: PNEUMONIA\n",
            "Predicted: NORMAL  |  Actual: PNEUMONIA\n",
            "Predicted: NORMAL  |  Actual: PNEUMONIA\n",
            "Predicted: NORMAL  |  Actual: NORMAL\n",
            "Predicted: NORMAL  |  Actual: PNEUMONIA\n",
            "Predicted: NORMAL  |  Actual: PNEUMONIA\n",
            "Predicted: PNEUMONIA  |  Actual: NORMAL\n",
            "Predicted: NORMAL  |  Actual: PNEUMONIA\n",
            "Predicted: NORMAL  |  Actual: PNEUMONIA\n",
            "Predicted: NORMAL  |  Actual: PNEUMONIA\n",
            "Predicted: NORMAL  |  Actual: PNEUMONIA\n",
            "Predicted: NORMAL  |  Actual: NORMAL\n",
            "Predicted: NORMAL  |  Actual: PNEUMONIA\n",
            "Predicted: NORMAL  |  Actual: PNEUMONIA\n",
            "Predicted: NORMAL  |  Actual: PNEUMONIA\n",
            "Predicted: NORMAL  |  Actual: PNEUMONIA\n",
            "Predicted: NORMAL  |  Actual: PNEUMONIA\n",
            "Predicted: NORMAL  |  Actual: PNEUMONIA\n",
            "Predicted: NORMAL  |  Actual: NORMAL\n",
            "Predicted: NORMAL  |  Actual: PNEUMONIA\n",
            "Predicted: NORMAL  |  Actual: PNEUMONIA\n",
            "Predicted: NORMAL  |  Actual: NORMAL\n",
            "Predicted: NORMAL  |  Actual: PNEUMONIA\n",
            "Predicted: NORMAL  |  Actual: PNEUMONIA\n",
            "Predicted: NORMAL  |  Actual: PNEUMONIA\n",
            "Predicted: NORMAL  |  Actual: PNEUMONIA\n",
            "Predicted: NORMAL  |  Actual: NORMAL\n",
            "Predicted: NORMAL  |  Actual: PNEUMONIA\n",
            "Predicted: NORMAL  |  Actual: NORMAL\n",
            "Predicted: NORMAL  |  Actual: PNEUMONIA\n",
            "Predicted: NORMAL  |  Actual: PNEUMONIA\n",
            "Predicted: NORMAL  |  Actual: PNEUMONIA\n",
            "Predicted: NORMAL  |  Actual: NORMAL\n",
            "Predicted: NORMAL  |  Actual: NORMAL\n",
            "Predicted: PNEUMONIA  |  Actual: PNEUMONIA\n",
            "Predicted: NORMAL  |  Actual: PNEUMONIA\n",
            "Predicted: NORMAL  |  Actual: PNEUMONIA\n",
            "Predicted: NORMAL  |  Actual: PNEUMONIA\n",
            "Predicted: NORMAL  |  Actual: PNEUMONIA\n",
            "Predicted: NORMAL  |  Actual: PNEUMONIA\n",
            "Predicted: NORMAL  |  Actual: NORMAL\n",
            "Predicted: NORMAL  |  Actual: NORMAL\n",
            "Predicted: NORMAL  |  Actual: NORMAL\n",
            "Predicted: NORMAL  |  Actual: PNEUMONIA\n",
            "Predicted: NORMAL  |  Actual: PNEUMONIA\n",
            "Predicted: NORMAL  |  Actual: PNEUMONIA\n",
            "Predicted: NORMAL  |  Actual: PNEUMONIA\n",
            "Predicted: NORMAL  |  Actual: NORMAL\n",
            "Predicted: NORMAL  |  Actual: PNEUMONIA\n",
            "Predicted: NORMAL  |  Actual: NORMAL\n",
            "Predicted: NORMAL  |  Actual: NORMAL\n",
            "Predicted: NORMAL  |  Actual: NORMAL\n",
            "Predicted: NORMAL  |  Actual: PNEUMONIA\n",
            "Predicted: NORMAL  |  Actual: NORMAL\n",
            "Predicted: NORMAL  |  Actual: PNEUMONIA\n",
            "Predicted: NORMAL  |  Actual: NORMAL\n",
            "Predicted: NORMAL  |  Actual: PNEUMONIA\n",
            "Predicted: NORMAL  |  Actual: PNEUMONIA\n",
            "Predicted: NORMAL  |  Actual: NORMAL\n",
            "Predicted: NORMAL  |  Actual: PNEUMONIA\n",
            "Predicted: NORMAL  |  Actual: PNEUMONIA\n",
            "Predicted: NORMAL  |  Actual: NORMAL\n",
            "Predicted: NORMAL  |  Actual: PNEUMONIA\n",
            "Predicted: NORMAL  |  Actual: PNEUMONIA\n",
            "Predicted: PNEUMONIA  |  Actual: PNEUMONIA\n",
            "Predicted: PNEUMONIA  |  Actual: PNEUMONIA\n",
            "Predicted: PNEUMONIA  |  Actual: PNEUMONIA\n",
            "Predicted: PNEUMONIA  |  Actual: PNEUMONIA\n",
            "Predicted: PNEUMONIA  |  Actual: PNEUMONIA\n",
            "Predicted: PNEUMONIA  |  Actual: PNEUMONIA\n",
            "Predicted: NORMAL  |  Actual: PNEUMONIA\n",
            "Predicted: PNEUMONIA  |  Actual: NORMAL\n",
            "Predicted: NORMAL  |  Actual: PNEUMONIA\n",
            "Predicted: PNEUMONIA  |  Actual: PNEUMONIA\n",
            "Predicted: PNEUMONIA  |  Actual: PNEUMONIA\n",
            "Predicted: PNEUMONIA  |  Actual: PNEUMONIA\n",
            "Predicted: PNEUMONIA  |  Actual: PNEUMONIA\n",
            "Predicted: PNEUMONIA  |  Actual: PNEUMONIA\n",
            "Predicted: PNEUMONIA  |  Actual: PNEUMONIA\n",
            "Predicted: PNEUMONIA  |  Actual: PNEUMONIA\n",
            "Predicted: PNEUMONIA  |  Actual: NORMAL\n",
            "Predicted: PNEUMONIA  |  Actual: PNEUMONIA\n",
            "Predicted: PNEUMONIA  |  Actual: PNEUMONIA\n",
            "Predicted: NORMAL  |  Actual: PNEUMONIA\n",
            "Predicted: NORMAL  |  Actual: PNEUMONIA\n",
            "Predicted: PNEUMONIA  |  Actual: PNEUMONIA\n",
            "Predicted: NORMAL  |  Actual: PNEUMONIA\n",
            "Predicted: PNEUMONIA  |  Actual: NORMAL\n",
            "Predicted: PNEUMONIA  |  Actual: PNEUMONIA\n",
            "Predicted: PNEUMONIA  |  Actual: NORMAL\n",
            "Predicted: PNEUMONIA  |  Actual: PNEUMONIA\n",
            "Predicted: PNEUMONIA  |  Actual: PNEUMONIA\n",
            "Predicted: PNEUMONIA  |  Actual: NORMAL\n",
            "Predicted: NORMAL  |  Actual: PNEUMONIA\n",
            "Predicted: NORMAL  |  Actual: NORMAL\n",
            "Predicted: NORMAL  |  Actual: NORMAL\n",
            "Predicted: NORMAL  |  Actual: NORMAL\n",
            "Predicted: NORMAL  |  Actual: PNEUMONIA\n",
            "Predicted: NORMAL  |  Actual: PNEUMONIA\n",
            "Predicted: NORMAL  |  Actual: NORMAL\n",
            "Predicted: NORMAL  |  Actual: NORMAL\n",
            "Predicted: NORMAL  |  Actual: PNEUMONIA\n",
            "Predicted: NORMAL  |  Actual: PNEUMONIA\n",
            "Predicted: NORMAL  |  Actual: PNEUMONIA\n",
            "Predicted: PNEUMONIA  |  Actual: PNEUMONIA\n",
            "Predicted: PNEUMONIA  |  Actual: NORMAL\n",
            "Predicted: NORMAL  |  Actual: PNEUMONIA\n",
            "Predicted: NORMAL  |  Actual: NORMAL\n",
            "Predicted: NORMAL  |  Actual: PNEUMONIA\n",
            "Predicted: NORMAL  |  Actual: PNEUMONIA\n",
            "Predicted: NORMAL  |  Actual: PNEUMONIA\n",
            "Predicted: PNEUMONIA  |  Actual: PNEUMONIA\n",
            "Predicted: PNEUMONIA  |  Actual: PNEUMONIA\n",
            "Predicted: NORMAL  |  Actual: PNEUMONIA\n",
            "Predicted: NORMAL  |  Actual: PNEUMONIA\n",
            "Predicted: NORMAL  |  Actual: PNEUMONIA\n",
            "Predicted: PNEUMONIA  |  Actual: NORMAL\n",
            "Predicted: NORMAL  |  Actual: PNEUMONIA\n",
            "Predicted: NORMAL  |  Actual: PNEUMONIA\n",
            "Predicted: NORMAL  |  Actual: NORMAL\n",
            "Predicted: NORMAL  |  Actual: PNEUMONIA\n",
            "Predicted: NORMAL  |  Actual: PNEUMONIA\n",
            "Predicted: NORMAL  |  Actual: NORMAL\n",
            "Predicted: NORMAL  |  Actual: NORMAL\n",
            "Predicted: NORMAL  |  Actual: PNEUMONIA\n",
            "Predicted: NORMAL  |  Actual: PNEUMONIA\n",
            "Predicted: NORMAL  |  Actual: PNEUMONIA\n",
            "Predicted: PNEUMONIA  |  Actual: PNEUMONIA\n",
            "Predicted: NORMAL  |  Actual: NORMAL\n",
            "Predicted: NORMAL  |  Actual: PNEUMONIA\n",
            "Predicted: NORMAL  |  Actual: PNEUMONIA\n",
            "Predicted: NORMAL  |  Actual: PNEUMONIA\n",
            "Predicted: NORMAL  |  Actual: PNEUMONIA\n",
            "Predicted: NORMAL  |  Actual: PNEUMONIA\n",
            "Predicted: NORMAL  |  Actual: PNEUMONIA\n",
            "Predicted: PNEUMONIA  |  Actual: PNEUMONIA\n",
            "Predicted: NORMAL  |  Actual: NORMAL\n",
            "Predicted: NORMAL  |  Actual: PNEUMONIA\n",
            "Predicted: PNEUMONIA  |  Actual: PNEUMONIA\n",
            "Predicted: NORMAL  |  Actual: NORMAL\n",
            "Predicted: NORMAL  |  Actual: PNEUMONIA\n",
            "Predicted: NORMAL  |  Actual: PNEUMONIA\n",
            "Predicted: NORMAL  |  Actual: PNEUMONIA\n",
            "Predicted: PNEUMONIA  |  Actual: PNEUMONIA\n",
            "Predicted: NORMAL  |  Actual: PNEUMONIA\n",
            "Predicted: PNEUMONIA  |  Actual: PNEUMONIA\n",
            "Predicted: NORMAL  |  Actual: NORMAL\n",
            "Predicted: NORMAL  |  Actual: PNEUMONIA\n",
            "Predicted: NORMAL  |  Actual: NORMAL\n",
            "Predicted: NORMAL  |  Actual: NORMAL\n",
            "Predicted: PNEUMONIA  |  Actual: PNEUMONIA\n",
            "Predicted: NORMAL  |  Actual: PNEUMONIA\n",
            "Predicted: NORMAL  |  Actual: NORMAL\n",
            "Predicted: NORMAL  |  Actual: PNEUMONIA\n",
            "Predicted: NORMAL  |  Actual: NORMAL\n",
            "Predicted: NORMAL  |  Actual: PNEUMONIA\n",
            "Predicted: NORMAL  |  Actual: PNEUMONIA\n",
            "Predicted: NORMAL  |  Actual: PNEUMONIA\n",
            "Predicted: NORMAL  |  Actual: NORMAL\n",
            "Predicted: NORMAL  |  Actual: PNEUMONIA\n",
            "Predicted: NORMAL  |  Actual: PNEUMONIA\n",
            "Predicted: NORMAL  |  Actual: PNEUMONIA\n",
            "Predicted: NORMAL  |  Actual: PNEUMONIA\n",
            "Predicted: NORMAL  |  Actual: NORMAL\n",
            "Predicted: NORMAL  |  Actual: PNEUMONIA\n",
            "Predicted: NORMAL  |  Actual: PNEUMONIA\n",
            "Predicted: NORMAL  |  Actual: PNEUMONIA\n",
            "Predicted: NORMAL  |  Actual: PNEUMONIA\n",
            "Predicted: PNEUMONIA  |  Actual: NORMAL\n",
            "Predicted: NORMAL  |  Actual: PNEUMONIA\n",
            "Predicted: NORMAL  |  Actual: PNEUMONIA\n",
            "Predicted: PNEUMONIA  |  Actual: NORMAL\n",
            "Predicted: NORMAL  |  Actual: PNEUMONIA\n",
            "Predicted: NORMAL  |  Actual: PNEUMONIA\n",
            "Predicted: NORMAL  |  Actual: PNEUMONIA\n",
            "Predicted: PNEUMONIA  |  Actual: PNEUMONIA\n",
            "Predicted: NORMAL  |  Actual: PNEUMONIA\n",
            "Predicted: NORMAL  |  Actual: PNEUMONIA\n",
            "Predicted: NORMAL  |  Actual: NORMAL\n",
            "Predicted: PNEUMONIA  |  Actual: NORMAL\n",
            "Predicted: PNEUMONIA  |  Actual: PNEUMONIA\n",
            "Predicted: PNEUMONIA  |  Actual: NORMAL\n",
            "Predicted: PNEUMONIA  |  Actual: PNEUMONIA\n",
            "Predicted: PNEUMONIA  |  Actual: PNEUMONIA\n",
            "Predicted: PNEUMONIA  |  Actual: PNEUMONIA\n",
            "Predicted: PNEUMONIA  |  Actual: PNEUMONIA\n",
            "Predicted: PNEUMONIA  |  Actual: PNEUMONIA\n",
            "Predicted: PNEUMONIA  |  Actual: PNEUMONIA\n",
            "Predicted: PNEUMONIA  |  Actual: PNEUMONIA\n",
            "Predicted: PNEUMONIA  |  Actual: PNEUMONIA\n",
            "Predicted: PNEUMONIA  |  Actual: PNEUMONIA\n",
            "Predicted: PNEUMONIA  |  Actual: NORMAL\n",
            "Predicted: PNEUMONIA  |  Actual: PNEUMONIA\n",
            "Predicted: PNEUMONIA  |  Actual: PNEUMONIA\n",
            "Predicted: PNEUMONIA  |  Actual: NORMAL\n",
            "Predicted: PNEUMONIA  |  Actual: NORMAL\n",
            "Predicted: PNEUMONIA  |  Actual: PNEUMONIA\n",
            "Predicted: PNEUMONIA  |  Actual: PNEUMONIA\n",
            "Predicted: PNEUMONIA  |  Actual: PNEUMONIA\n",
            "Predicted: PNEUMONIA  |  Actual: PNEUMONIA\n",
            "Predicted: PNEUMONIA  |  Actual: PNEUMONIA\n",
            "Predicted: PNEUMONIA  |  Actual: PNEUMONIA\n",
            "Predicted: PNEUMONIA  |  Actual: PNEUMONIA\n",
            "Predicted: PNEUMONIA  |  Actual: PNEUMONIA\n",
            "Predicted: PNEUMONIA  |  Actual: PNEUMONIA\n",
            "Predicted: PNEUMONIA  |  Actual: PNEUMONIA\n",
            "Predicted: PNEUMONIA  |  Actual: PNEUMONIA\n",
            "Predicted: PNEUMONIA  |  Actual: NORMAL\n",
            "Predicted: PNEUMONIA  |  Actual: PNEUMONIA\n",
            "Predicted: PNEUMONIA  |  Actual: PNEUMONIA\n",
            "Predicted: PNEUMONIA  |  Actual: PNEUMONIA\n",
            "Predicted: PNEUMONIA  |  Actual: PNEUMONIA\n",
            "Predicted: PNEUMONIA  |  Actual: NORMAL\n",
            "Predicted: PNEUMONIA  |  Actual: PNEUMONIA\n",
            "Predicted: PNEUMONIA  |  Actual: PNEUMONIA\n",
            "Predicted: PNEUMONIA  |  Actual: PNEUMONIA\n",
            "Predicted: PNEUMONIA  |  Actual: NORMAL\n",
            "Predicted: PNEUMONIA  |  Actual: PNEUMONIA\n",
            "Predicted: PNEUMONIA  |  Actual: PNEUMONIA\n",
            "Predicted: PNEUMONIA  |  Actual: PNEUMONIA\n",
            "Predicted: PNEUMONIA  |  Actual: PNEUMONIA\n",
            "Predicted: PNEUMONIA  |  Actual: NORMAL\n",
            "Predicted: PNEUMONIA  |  Actual: PNEUMONIA\n",
            "Predicted: PNEUMONIA  |  Actual: NORMAL\n",
            "Predicted: PNEUMONIA  |  Actual: PNEUMONIA\n",
            "Predicted: PNEUMONIA  |  Actual: PNEUMONIA\n",
            "Predicted: PNEUMONIA  |  Actual: PNEUMONIA\n",
            "Predicted: PNEUMONIA  |  Actual: PNEUMONIA\n",
            "Predicted: PNEUMONIA  |  Actual: NORMAL\n",
            "Predicted: PNEUMONIA  |  Actual: PNEUMONIA\n",
            "Predicted: PNEUMONIA  |  Actual: NORMAL\n",
            "Predicted: PNEUMONIA  |  Actual: NORMAL\n",
            "Predicted: NORMAL  |  Actual: PNEUMONIA\n",
            "Predicted: NORMAL  |  Actual: PNEUMONIA\n",
            "Predicted: PNEUMONIA  |  Actual: PNEUMONIA\n",
            "Predicted: PNEUMONIA  |  Actual: PNEUMONIA\n",
            "Predicted: PNEUMONIA  |  Actual: PNEUMONIA\n",
            "Predicted: PNEUMONIA  |  Actual: PNEUMONIA\n",
            "Predicted: PNEUMONIA  |  Actual: PNEUMONIA\n",
            "Predicted: PNEUMONIA  |  Actual: NORMAL\n",
            "Predicted: PNEUMONIA  |  Actual: PNEUMONIA\n",
            "Predicted: PNEUMONIA  |  Actual: PNEUMONIA\n",
            "Predicted: PNEUMONIA  |  Actual: PNEUMONIA\n",
            "Predicted: PNEUMONIA  |  Actual: PNEUMONIA\n",
            "Predicted: PNEUMONIA  |  Actual: PNEUMONIA\n",
            "Predicted: PNEUMONIA  |  Actual: PNEUMONIA\n",
            "Predicted: PNEUMONIA  |  Actual: PNEUMONIA\n",
            "Predicted: PNEUMONIA  |  Actual: PNEUMONIA\n",
            "Predicted: PNEUMONIA  |  Actual: PNEUMONIA\n",
            "Predicted: PNEUMONIA  |  Actual: PNEUMONIA\n",
            "Predicted: PNEUMONIA  |  Actual: PNEUMONIA\n",
            "Predicted: PNEUMONIA  |  Actual: PNEUMONIA\n",
            "Predicted: PNEUMONIA  |  Actual: NORMAL\n",
            "Predicted: PNEUMONIA  |  Actual: PNEUMONIA\n",
            "Predicted: PNEUMONIA  |  Actual: PNEUMONIA\n",
            "Predicted: PNEUMONIA  |  Actual: PNEUMONIA\n",
            "Predicted: PNEUMONIA  |  Actual: NORMAL\n",
            "Predicted: PNEUMONIA  |  Actual: PNEUMONIA\n",
            "Predicted: PNEUMONIA  |  Actual: PNEUMONIA\n",
            "Predicted: PNEUMONIA  |  Actual: PNEUMONIA\n",
            "Predicted: PNEUMONIA  |  Actual: PNEUMONIA\n",
            "Predicted: PNEUMONIA  |  Actual: PNEUMONIA\n",
            "Predicted: NORMAL  |  Actual: NORMAL\n",
            "Predicted: PNEUMONIA  |  Actual: PNEUMONIA\n",
            "Predicted: PNEUMONIA  |  Actual: NORMAL\n",
            "Predicted: PNEUMONIA  |  Actual: PNEUMONIA\n",
            "Predicted: PNEUMONIA  |  Actual: PNEUMONIA\n",
            "Predicted: PNEUMONIA  |  Actual: PNEUMONIA\n",
            "Predicted: PNEUMONIA  |  Actual: PNEUMONIA\n",
            "Predicted: PNEUMONIA  |  Actual: PNEUMONIA\n",
            "Predicted: PNEUMONIA  |  Actual: NORMAL\n",
            "Predicted: PNEUMONIA  |  Actual: NORMAL\n",
            "Predicted: PNEUMONIA  |  Actual: PNEUMONIA\n",
            "Predicted: PNEUMONIA  |  Actual: PNEUMONIA\n",
            "Predicted: PNEUMONIA  |  Actual: PNEUMONIA\n",
            "Predicted: PNEUMONIA  |  Actual: NORMAL\n",
            "Predicted: PNEUMONIA  |  Actual: PNEUMONIA\n",
            "Predicted: PNEUMONIA  |  Actual: PNEUMONIA\n",
            "Predicted: PNEUMONIA  |  Actual: PNEUMONIA\n",
            "Predicted: PNEUMONIA  |  Actual: PNEUMONIA\n",
            "Predicted: PNEUMONIA  |  Actual: PNEUMONIA\n",
            "Predicted: PNEUMONIA  |  Actual: PNEUMONIA\n",
            "Predicted: PNEUMONIA  |  Actual: PNEUMONIA\n",
            "Predicted: PNEUMONIA  |  Actual: PNEUMONIA\n",
            "Predicted: PNEUMONIA  |  Actual: NORMAL\n",
            "Predicted: PNEUMONIA  |  Actual: NORMAL\n",
            "Predicted: PNEUMONIA  |  Actual: PNEUMONIA\n",
            "Predicted: PNEUMONIA  |  Actual: PNEUMONIA\n",
            "Predicted: PNEUMONIA  |  Actual: PNEUMONIA\n",
            "Predicted: PNEUMONIA  |  Actual: NORMAL\n",
            "Predicted: PNEUMONIA  |  Actual: PNEUMONIA\n",
            "Predicted: PNEUMONIA  |  Actual: NORMAL\n",
            "Predicted: PNEUMONIA  |  Actual: PNEUMONIA\n",
            "Predicted: NORMAL  |  Actual: PNEUMONIA\n",
            "Predicted: PNEUMONIA  |  Actual: NORMAL\n",
            "Predicted: PNEUMONIA  |  Actual: PNEUMONIA\n",
            "Predicted: PNEUMONIA  |  Actual: NORMAL\n",
            "Predicted: PNEUMONIA  |  Actual: PNEUMONIA\n",
            "Predicted: PNEUMONIA  |  Actual: PNEUMONIA\n",
            "Predicted: PNEUMONIA  |  Actual: NORMAL\n",
            "Predicted: PNEUMONIA  |  Actual: PNEUMONIA\n",
            "Predicted: PNEUMONIA  |  Actual: NORMAL\n",
            "Predicted: PNEUMONIA  |  Actual: PNEUMONIA\n",
            "Predicted: PNEUMONIA  |  Actual: PNEUMONIA\n",
            "Predicted: PNEUMONIA  |  Actual: PNEUMONIA\n",
            "Predicted: PNEUMONIA  |  Actual: NORMAL\n",
            "Predicted: PNEUMONIA  |  Actual: PNEUMONIA\n",
            "Predicted: PNEUMONIA  |  Actual: PNEUMONIA\n",
            "Predicted: PNEUMONIA  |  Actual: PNEUMONIA\n",
            "Predicted: PNEUMONIA  |  Actual: PNEUMONIA\n",
            "Predicted: PNEUMONIA  |  Actual: NORMAL\n",
            "Predicted: PNEUMONIA  |  Actual: PNEUMONIA\n",
            "Predicted: PNEUMONIA  |  Actual: NORMAL\n",
            "Predicted: PNEUMONIA  |  Actual: PNEUMONIA\n",
            "Predicted: PNEUMONIA  |  Actual: NORMAL\n",
            "Predicted: PNEUMONIA  |  Actual: PNEUMONIA\n",
            "Predicted: NORMAL  |  Actual: NORMAL\n",
            "Predicted: PNEUMONIA  |  Actual: PNEUMONIA\n",
            "Predicted: PNEUMONIA  |  Actual: PNEUMONIA\n",
            "Predicted: PNEUMONIA  |  Actual: PNEUMONIA\n",
            "Predicted: PNEUMONIA  |  Actual: PNEUMONIA\n",
            "Predicted: PNEUMONIA  |  Actual: PNEUMONIA\n",
            "Predicted: PNEUMONIA  |  Actual: PNEUMONIA\n",
            "Predicted: PNEUMONIA  |  Actual: PNEUMONIA\n",
            "Predicted: PNEUMONIA  |  Actual: PNEUMONIA\n",
            "Predicted: PNEUMONIA  |  Actual: PNEUMONIA\n",
            "Predicted: PNEUMONIA  |  Actual: PNEUMONIA\n",
            "Predicted: PNEUMONIA  |  Actual: NORMAL\n",
            "Predicted: PNEUMONIA  |  Actual: PNEUMONIA\n",
            "Predicted: PNEUMONIA  |  Actual: PNEUMONIA\n",
            "Predicted: PNEUMONIA  |  Actual: NORMAL\n",
            "Predicted: PNEUMONIA  |  Actual: NORMAL\n",
            "Predicted: PNEUMONIA  |  Actual: PNEUMONIA\n",
            "Predicted: PNEUMONIA  |  Actual: PNEUMONIA\n",
            "Predicted: PNEUMONIA  |  Actual: PNEUMONIA\n",
            "Predicted: NORMAL  |  Actual: PNEUMONIA\n",
            "Predicted: NORMAL  |  Actual: PNEUMONIA\n",
            "Predicted: PNEUMONIA  |  Actual: PNEUMONIA\n",
            "Predicted: PNEUMONIA  |  Actual: PNEUMONIA\n",
            "Predicted: PNEUMONIA  |  Actual: PNEUMONIA\n",
            "Predicted: PNEUMONIA  |  Actual: PNEUMONIA\n",
            "Predicted: PNEUMONIA  |  Actual: PNEUMONIA\n",
            "Predicted: PNEUMONIA  |  Actual: PNEUMONIA\n",
            "Predicted: PNEUMONIA  |  Actual: PNEUMONIA\n",
            "Predicted: PNEUMONIA  |  Actual: PNEUMONIA\n",
            "Predicted: PNEUMONIA  |  Actual: PNEUMONIA\n",
            "Predicted: PNEUMONIA  |  Actual: NORMAL\n",
            "Predicted: PNEUMONIA  |  Actual: PNEUMONIA\n",
            "Predicted: PNEUMONIA  |  Actual: PNEUMONIA\n",
            "Predicted: PNEUMONIA  |  Actual: NORMAL\n",
            "Predicted: PNEUMONIA  |  Actual: PNEUMONIA\n",
            "Predicted: PNEUMONIA  |  Actual: PNEUMONIA\n",
            "Predicted: PNEUMONIA  |  Actual: NORMAL\n",
            "Predicted: PNEUMONIA  |  Actual: NORMAL\n",
            "Predicted: PNEUMONIA  |  Actual: PNEUMONIA\n",
            "Predicted: PNEUMONIA  |  Actual: PNEUMONIA\n",
            "Predicted: PNEUMONIA  |  Actual: PNEUMONIA\n",
            "Predicted: PNEUMONIA  |  Actual: PNEUMONIA\n",
            "Predicted: PNEUMONIA  |  Actual: PNEUMONIA\n",
            "Predicted: PNEUMONIA  |  Actual: PNEUMONIA\n",
            "Predicted: PNEUMONIA  |  Actual: PNEUMONIA\n",
            "Predicted: PNEUMONIA  |  Actual: PNEUMONIA\n",
            "Predicted: PNEUMONIA  |  Actual: PNEUMONIA\n"
          ]
        }
      ]
    },
    {
      "cell_type": "markdown",
      "source": [
        "# Model Architecture Diagram"
      ],
      "metadata": {
        "id": "Hqgeq8flhovI"
      }
    },
    {
      "cell_type": "code",
      "source": [
        "from tensorflow.keras.utils import plot_model\n",
        "model = tf.keras.models.load_model(\"model-final.keras\")\n",
        "plot_model(model, to_file=\"model_architecture.png\",\n",
        "           show_shapes=True,\n",
        "           show_layer_names=True,\n",
        "           dpi=72)\n"
      ],
      "metadata": {
        "colab": {
          "base_uri": "https://localhost:8080/",
          "height": 1000
        },
        "id": "c1lGPaXEhxOP",
        "outputId": "188f3ee3-4f67-4149-f53a-80c82e62555d"
      },
      "execution_count": null,
      "outputs": [
        {
          "output_type": "execute_result",
          "data": {
            "image/png": "[encoded data removed]",
            "text/plain": [
              "<IPython.core.display.Image object>"
            ]
          },
          "metadata": {},
          "execution_count": 50
        }
      ]
    }
  ],
  "metadata": {
    "colab": {
      "provenance": [],
      "gpuType": "T4",
      "include_colab_link": true
    },
    "kernelspec": {
      "display_name": "Python 3",
      "name": "python3"
    },
    "accelerator": "GPU"
  },
  "nbformat": 4,
  "nbformat_minor": 0
}